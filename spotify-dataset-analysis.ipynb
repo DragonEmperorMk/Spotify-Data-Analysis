{
 "cells": [
  {
   "cell_type": "markdown",
   "id": "4639bc92",
   "metadata": {
    "papermill": {
     "duration": 0.010346,
     "end_time": "2025-07-16T16:07:07.267575",
     "exception": false,
     "start_time": "2025-07-16T16:07:07.257229",
     "status": "completed"
    },
    "tags": []
   },
   "source": [
    "## **Neccessary Imports**"
   ]
  },
  {
   "cell_type": "code",
   "execution_count": 1,
   "id": "31985eb5",
   "metadata": {
    "execution": {
     "iopub.execute_input": "2025-07-16T16:07:07.285977Z",
     "iopub.status.busy": "2025-07-16T16:07:07.285662Z",
     "iopub.status.idle": "2025-07-16T16:07:12.201297Z",
     "shell.execute_reply": "2025-07-16T16:07:12.200573Z"
    },
    "papermill": {
     "duration": 4.926753,
     "end_time": "2025-07-16T16:07:12.202982",
     "exception": false,
     "start_time": "2025-07-16T16:07:07.276229",
     "status": "completed"
    },
    "tags": []
   },
   "outputs": [],
   "source": [
    "import numpy as np\n",
    "import pandas as pd \n",
    "import matplotlib.pyplot as plt\n",
    "import seaborn as sns\n",
    "import plotly.express as px\n",
    "\n",
    "import warnings \n",
    "warnings.filterwarnings(\"ignore\")"
   ]
  },
  {
   "cell_type": "markdown",
   "id": "8389d31a",
   "metadata": {
    "papermill": {
     "duration": 0.008065,
     "end_time": "2025-07-16T16:07:12.220644",
     "exception": false,
     "start_time": "2025-07-16T16:07:12.212579",
     "status": "completed"
    },
    "tags": []
   },
   "source": [
    "## **Dataset analysis**"
   ]
  },
  {
   "cell_type": "code",
   "execution_count": 2,
   "id": "7d0ead10",
   "metadata": {
    "execution": {
     "iopub.execute_input": "2025-07-16T16:07:12.239278Z",
     "iopub.status.busy": "2025-07-16T16:07:12.238334Z",
     "iopub.status.idle": "2025-07-16T16:07:12.996923Z",
     "shell.execute_reply": "2025-07-16T16:07:12.996162Z"
    },
    "papermill": {
     "duration": 0.769852,
     "end_time": "2025-07-16T16:07:12.998617",
     "exception": false,
     "start_time": "2025-07-16T16:07:12.228765",
     "status": "completed"
    },
    "tags": []
   },
   "outputs": [],
   "source": [
    "spotify_data = pd.read_csv(r'/kaggle/input/top-spotify-songs-in-countries/spotify_history.csv')\n",
    "spotify_data_cleaned = spotify_data.copy()"
   ]
  },
  {
   "cell_type": "code",
   "execution_count": 3,
   "id": "a6ede5e8",
   "metadata": {
    "execution": {
     "iopub.execute_input": "2025-07-16T16:07:13.017624Z",
     "iopub.status.busy": "2025-07-16T16:07:13.016914Z",
     "iopub.status.idle": "2025-07-16T16:07:13.045546Z",
     "shell.execute_reply": "2025-07-16T16:07:13.044679Z"
    },
    "papermill": {
     "duration": 0.039841,
     "end_time": "2025-07-16T16:07:13.047034",
     "exception": false,
     "start_time": "2025-07-16T16:07:13.007193",
     "status": "completed"
    },
    "tags": []
   },
   "outputs": [
    {
     "data": {
      "text/html": [
       "<div>\n",
       "<style scoped>\n",
       "    .dataframe tbody tr th:only-of-type {\n",
       "        vertical-align: middle;\n",
       "    }\n",
       "\n",
       "    .dataframe tbody tr th {\n",
       "        vertical-align: top;\n",
       "    }\n",
       "\n",
       "    .dataframe thead th {\n",
       "        text-align: right;\n",
       "    }\n",
       "</style>\n",
       "<table border=\"1\" class=\"dataframe\">\n",
       "  <thead>\n",
       "    <tr style=\"text-align: right;\">\n",
       "      <th></th>\n",
       "      <th>spotify_track_uri</th>\n",
       "      <th>ts</th>\n",
       "      <th>platform</th>\n",
       "      <th>ms_played</th>\n",
       "      <th>track_name</th>\n",
       "      <th>artist_name</th>\n",
       "      <th>album_name</th>\n",
       "      <th>reason_start</th>\n",
       "      <th>reason_end</th>\n",
       "      <th>shuffle</th>\n",
       "      <th>skipped</th>\n",
       "    </tr>\n",
       "  </thead>\n",
       "  <tbody>\n",
       "    <tr>\n",
       "      <th>0</th>\n",
       "      <td>2J3n32GeLmMjwuAzyhcSNe</td>\n",
       "      <td>2013-07-08 02:44:34</td>\n",
       "      <td>web player</td>\n",
       "      <td>3185</td>\n",
       "      <td>Say It, Just Say It</td>\n",
       "      <td>The Mowgli's</td>\n",
       "      <td>Waiting For The Dawn</td>\n",
       "      <td>autoplay</td>\n",
       "      <td>clickrow</td>\n",
       "      <td>False</td>\n",
       "      <td>False</td>\n",
       "    </tr>\n",
       "    <tr>\n",
       "      <th>1</th>\n",
       "      <td>1oHxIPqJyvAYHy0PVrDU98</td>\n",
       "      <td>2013-07-08 02:45:37</td>\n",
       "      <td>web player</td>\n",
       "      <td>61865</td>\n",
       "      <td>Drinking from the Bottle (feat. Tinie Tempah)</td>\n",
       "      <td>Calvin Harris</td>\n",
       "      <td>18 Months</td>\n",
       "      <td>clickrow</td>\n",
       "      <td>clickrow</td>\n",
       "      <td>False</td>\n",
       "      <td>False</td>\n",
       "    </tr>\n",
       "    <tr>\n",
       "      <th>2</th>\n",
       "      <td>487OPlneJNni3NWC8SYqhW</td>\n",
       "      <td>2013-07-08 02:50:24</td>\n",
       "      <td>web player</td>\n",
       "      <td>285386</td>\n",
       "      <td>Born To Die</td>\n",
       "      <td>Lana Del Rey</td>\n",
       "      <td>Born To Die - The Paradise Edition</td>\n",
       "      <td>clickrow</td>\n",
       "      <td>unknown</td>\n",
       "      <td>False</td>\n",
       "      <td>False</td>\n",
       "    </tr>\n",
       "    <tr>\n",
       "      <th>3</th>\n",
       "      <td>5IyblF777jLZj1vGHG2UD3</td>\n",
       "      <td>2013-07-08 02:52:40</td>\n",
       "      <td>web player</td>\n",
       "      <td>134022</td>\n",
       "      <td>Off To The Races</td>\n",
       "      <td>Lana Del Rey</td>\n",
       "      <td>Born To Die - The Paradise Edition</td>\n",
       "      <td>trackdone</td>\n",
       "      <td>clickrow</td>\n",
       "      <td>False</td>\n",
       "      <td>False</td>\n",
       "    </tr>\n",
       "    <tr>\n",
       "      <th>4</th>\n",
       "      <td>0GgAAB0ZMllFhbNc3mAodO</td>\n",
       "      <td>2013-07-08 03:17:52</td>\n",
       "      <td>web player</td>\n",
       "      <td>0</td>\n",
       "      <td>Half Mast</td>\n",
       "      <td>Empire Of The Sun</td>\n",
       "      <td>Walking On A Dream</td>\n",
       "      <td>clickrow</td>\n",
       "      <td>nextbtn</td>\n",
       "      <td>False</td>\n",
       "      <td>False</td>\n",
       "    </tr>\n",
       "  </tbody>\n",
       "</table>\n",
       "</div>"
      ],
      "text/plain": [
       "        spotify_track_uri                   ts    platform  ms_played  \\\n",
       "0  2J3n32GeLmMjwuAzyhcSNe  2013-07-08 02:44:34  web player       3185   \n",
       "1  1oHxIPqJyvAYHy0PVrDU98  2013-07-08 02:45:37  web player      61865   \n",
       "2  487OPlneJNni3NWC8SYqhW  2013-07-08 02:50:24  web player     285386   \n",
       "3  5IyblF777jLZj1vGHG2UD3  2013-07-08 02:52:40  web player     134022   \n",
       "4  0GgAAB0ZMllFhbNc3mAodO  2013-07-08 03:17:52  web player          0   \n",
       "\n",
       "                                      track_name        artist_name  \\\n",
       "0                            Say It, Just Say It       The Mowgli's   \n",
       "1  Drinking from the Bottle (feat. Tinie Tempah)      Calvin Harris   \n",
       "2                                    Born To Die       Lana Del Rey   \n",
       "3                               Off To The Races       Lana Del Rey   \n",
       "4                                      Half Mast  Empire Of The Sun   \n",
       "\n",
       "                           album_name reason_start reason_end  shuffle  \\\n",
       "0                Waiting For The Dawn     autoplay   clickrow    False   \n",
       "1                           18 Months     clickrow   clickrow    False   \n",
       "2  Born To Die - The Paradise Edition     clickrow    unknown    False   \n",
       "3  Born To Die - The Paradise Edition    trackdone   clickrow    False   \n",
       "4                  Walking On A Dream     clickrow    nextbtn    False   \n",
       "\n",
       "   skipped  \n",
       "0    False  \n",
       "1    False  \n",
       "2    False  \n",
       "3    False  \n",
       "4    False  "
      ]
     },
     "execution_count": 3,
     "metadata": {},
     "output_type": "execute_result"
    }
   ],
   "source": [
    "spotify_data.head()"
   ]
  },
  {
   "cell_type": "code",
   "execution_count": 4,
   "id": "ffb47222",
   "metadata": {
    "execution": {
     "iopub.execute_input": "2025-07-16T16:07:13.065282Z",
     "iopub.status.busy": "2025-07-16T16:07:13.064981Z",
     "iopub.status.idle": "2025-07-16T16:07:13.155064Z",
     "shell.execute_reply": "2025-07-16T16:07:13.153959Z"
    },
    "papermill": {
     "duration": 0.101108,
     "end_time": "2025-07-16T16:07:13.156733",
     "exception": false,
     "start_time": "2025-07-16T16:07:13.055625",
     "status": "completed"
    },
    "tags": []
   },
   "outputs": [
    {
     "name": "stdout",
     "output_type": "stream",
     "text": [
      "<class 'pandas.core.frame.DataFrame'>\n",
      "RangeIndex: 149860 entries, 0 to 149859\n",
      "Data columns (total 11 columns):\n",
      " #   Column             Non-Null Count   Dtype \n",
      "---  ------             --------------   ----- \n",
      " 0   spotify_track_uri  149860 non-null  object\n",
      " 1   ts                 149860 non-null  object\n",
      " 2   platform           149860 non-null  object\n",
      " 3   ms_played          149860 non-null  int64 \n",
      " 4   track_name         149860 non-null  object\n",
      " 5   artist_name        149860 non-null  object\n",
      " 6   album_name         149860 non-null  object\n",
      " 7   reason_start       149717 non-null  object\n",
      " 8   reason_end         149743 non-null  object\n",
      " 9   shuffle            149860 non-null  bool  \n",
      " 10  skipped            149860 non-null  bool  \n",
      "dtypes: bool(2), int64(1), object(8)\n",
      "memory usage: 10.6+ MB\n",
      "None\n"
     ]
    }
   ],
   "source": [
    "print(spotify_data.info())"
   ]
  },
  {
   "cell_type": "code",
   "execution_count": 5,
   "id": "bc931efb",
   "metadata": {
    "execution": {
     "iopub.execute_input": "2025-07-16T16:07:13.175227Z",
     "iopub.status.busy": "2025-07-16T16:07:13.174932Z",
     "iopub.status.idle": "2025-07-16T16:07:13.241421Z",
     "shell.execute_reply": "2025-07-16T16:07:13.240340Z"
    },
    "papermill": {
     "duration": 0.077453,
     "end_time": "2025-07-16T16:07:13.243031",
     "exception": false,
     "start_time": "2025-07-16T16:07:13.165578",
     "status": "completed"
    },
    "tags": []
   },
   "outputs": [
    {
     "name": "stdout",
     "output_type": "stream",
     "text": [
      "spotify_track_uri      0\n",
      "ts                     0\n",
      "platform               0\n",
      "ms_played              0\n",
      "track_name             0\n",
      "artist_name            0\n",
      "album_name             0\n",
      "reason_start         143\n",
      "reason_end           117\n",
      "shuffle                0\n",
      "skipped                0\n",
      "dtype: int64\n"
     ]
    }
   ],
   "source": [
    "print(spotify_data.isnull().sum())"
   ]
  },
  {
   "cell_type": "markdown",
   "id": "04cec190",
   "metadata": {
    "papermill": {
     "duration": 0.008357,
     "end_time": "2025-07-16T16:07:13.260195",
     "exception": false,
     "start_time": "2025-07-16T16:07:13.251838",
     "status": "completed"
    },
    "tags": []
   },
   "source": [
    "**Insights**\n",
    "1. The timestamp(ts) column needs to be converted to Datetime formate from the object format.\n",
    "2. There are several nulls or empty columns in the reason_start and reason_end.\n",
    "3. We can just drop spotify_track_uri as it doesn't provide much information.\n",
    "4. Filter out rows where ms_played = 0.\n",
    "5. We can create some new timebased feature like (hours, day, weekday, month, year, date) using the timestamp column."
   ]
  },
  {
   "cell_type": "markdown",
   "id": "65d165ff",
   "metadata": {
    "papermill": {
     "duration": 0.008421,
     "end_time": "2025-07-16T16:07:13.277626",
     "exception": false,
     "start_time": "2025-07-16T16:07:13.269205",
     "status": "completed"
    },
    "tags": []
   },
   "source": [
    "## **Cleaning the Dataset**"
   ]
  },
  {
   "cell_type": "code",
   "execution_count": 6,
   "id": "5cb1bf3f",
   "metadata": {
    "execution": {
     "iopub.execute_input": "2025-07-16T16:07:13.295996Z",
     "iopub.status.busy": "2025-07-16T16:07:13.295700Z",
     "iopub.status.idle": "2025-07-16T16:07:13.616031Z",
     "shell.execute_reply": "2025-07-16T16:07:13.615149Z"
    },
    "papermill": {
     "duration": 0.331521,
     "end_time": "2025-07-16T16:07:13.617698",
     "exception": false,
     "start_time": "2025-07-16T16:07:13.286177",
     "status": "completed"
    },
    "tags": []
   },
   "outputs": [],
   "source": [
    "spotify_data_cleaned['ts'] = pd.to_datetime(spotify_data_cleaned['ts'])\n",
    "\n",
    "spotify_data_cleaned_cleaned = spotify_data_cleaned[spotify_data_cleaned['ms_played'] > 0].reset_index(drop=True)\n",
    "\n",
    "# 3. Create new time-based features\n",
    "spotify_data_cleaned['hour'] = spotify_data_cleaned['ts'].dt.hour\n",
    "spotify_data_cleaned['day'] = spotify_data_cleaned['ts'].dt.day\n",
    "spotify_data_cleaned['weekday'] = spotify_data_cleaned['ts'].dt.day_name()\n",
    "spotify_data_cleaned['month'] = spotify_data_cleaned['ts'].dt.month\n",
    "spotify_data_cleaned['year'] = spotify_data_cleaned['ts'].dt.year\n",
    "spotify_data_cleaned['date'] = spotify_data_cleaned['ts'].dt.date\n",
    "\n",
    "spotify_data_cleaned = spotify_data_cleaned.dropna(subset=['reason_start', 'reason_end']).reset_index(drop=True)\n"
   ]
  },
  {
   "cell_type": "code",
   "execution_count": 7,
   "id": "7f8348ed",
   "metadata": {
    "execution": {
     "iopub.execute_input": "2025-07-16T16:07:13.636761Z",
     "iopub.status.busy": "2025-07-16T16:07:13.636016Z",
     "iopub.status.idle": "2025-07-16T16:07:13.649573Z",
     "shell.execute_reply": "2025-07-16T16:07:13.648749Z"
    },
    "papermill": {
     "duration": 0.024419,
     "end_time": "2025-07-16T16:07:13.650903",
     "exception": false,
     "start_time": "2025-07-16T16:07:13.626484",
     "status": "completed"
    },
    "tags": []
   },
   "outputs": [
    {
     "data": {
      "text/html": [
       "<div>\n",
       "<style scoped>\n",
       "    .dataframe tbody tr th:only-of-type {\n",
       "        vertical-align: middle;\n",
       "    }\n",
       "\n",
       "    .dataframe tbody tr th {\n",
       "        vertical-align: top;\n",
       "    }\n",
       "\n",
       "    .dataframe thead th {\n",
       "        text-align: right;\n",
       "    }\n",
       "</style>\n",
       "<table border=\"1\" class=\"dataframe\">\n",
       "  <thead>\n",
       "    <tr style=\"text-align: right;\">\n",
       "      <th></th>\n",
       "      <th>spotify_track_uri</th>\n",
       "      <th>ts</th>\n",
       "      <th>platform</th>\n",
       "      <th>ms_played</th>\n",
       "      <th>track_name</th>\n",
       "      <th>artist_name</th>\n",
       "      <th>album_name</th>\n",
       "      <th>reason_start</th>\n",
       "      <th>reason_end</th>\n",
       "      <th>shuffle</th>\n",
       "      <th>skipped</th>\n",
       "      <th>hour</th>\n",
       "      <th>day</th>\n",
       "      <th>weekday</th>\n",
       "      <th>month</th>\n",
       "      <th>year</th>\n",
       "      <th>date</th>\n",
       "    </tr>\n",
       "  </thead>\n",
       "  <tbody>\n",
       "    <tr>\n",
       "      <th>0</th>\n",
       "      <td>2J3n32GeLmMjwuAzyhcSNe</td>\n",
       "      <td>2013-07-08 02:44:34</td>\n",
       "      <td>web player</td>\n",
       "      <td>3185</td>\n",
       "      <td>Say It, Just Say It</td>\n",
       "      <td>The Mowgli's</td>\n",
       "      <td>Waiting For The Dawn</td>\n",
       "      <td>autoplay</td>\n",
       "      <td>clickrow</td>\n",
       "      <td>False</td>\n",
       "      <td>False</td>\n",
       "      <td>2</td>\n",
       "      <td>8</td>\n",
       "      <td>Monday</td>\n",
       "      <td>7</td>\n",
       "      <td>2013</td>\n",
       "      <td>2013-07-08</td>\n",
       "    </tr>\n",
       "    <tr>\n",
       "      <th>1</th>\n",
       "      <td>1oHxIPqJyvAYHy0PVrDU98</td>\n",
       "      <td>2013-07-08 02:45:37</td>\n",
       "      <td>web player</td>\n",
       "      <td>61865</td>\n",
       "      <td>Drinking from the Bottle (feat. Tinie Tempah)</td>\n",
       "      <td>Calvin Harris</td>\n",
       "      <td>18 Months</td>\n",
       "      <td>clickrow</td>\n",
       "      <td>clickrow</td>\n",
       "      <td>False</td>\n",
       "      <td>False</td>\n",
       "      <td>2</td>\n",
       "      <td>8</td>\n",
       "      <td>Monday</td>\n",
       "      <td>7</td>\n",
       "      <td>2013</td>\n",
       "      <td>2013-07-08</td>\n",
       "    </tr>\n",
       "    <tr>\n",
       "      <th>2</th>\n",
       "      <td>487OPlneJNni3NWC8SYqhW</td>\n",
       "      <td>2013-07-08 02:50:24</td>\n",
       "      <td>web player</td>\n",
       "      <td>285386</td>\n",
       "      <td>Born To Die</td>\n",
       "      <td>Lana Del Rey</td>\n",
       "      <td>Born To Die - The Paradise Edition</td>\n",
       "      <td>clickrow</td>\n",
       "      <td>unknown</td>\n",
       "      <td>False</td>\n",
       "      <td>False</td>\n",
       "      <td>2</td>\n",
       "      <td>8</td>\n",
       "      <td>Monday</td>\n",
       "      <td>7</td>\n",
       "      <td>2013</td>\n",
       "      <td>2013-07-08</td>\n",
       "    </tr>\n",
       "    <tr>\n",
       "      <th>3</th>\n",
       "      <td>5IyblF777jLZj1vGHG2UD3</td>\n",
       "      <td>2013-07-08 02:52:40</td>\n",
       "      <td>web player</td>\n",
       "      <td>134022</td>\n",
       "      <td>Off To The Races</td>\n",
       "      <td>Lana Del Rey</td>\n",
       "      <td>Born To Die - The Paradise Edition</td>\n",
       "      <td>trackdone</td>\n",
       "      <td>clickrow</td>\n",
       "      <td>False</td>\n",
       "      <td>False</td>\n",
       "      <td>2</td>\n",
       "      <td>8</td>\n",
       "      <td>Monday</td>\n",
       "      <td>7</td>\n",
       "      <td>2013</td>\n",
       "      <td>2013-07-08</td>\n",
       "    </tr>\n",
       "    <tr>\n",
       "      <th>4</th>\n",
       "      <td>0GgAAB0ZMllFhbNc3mAodO</td>\n",
       "      <td>2013-07-08 03:17:52</td>\n",
       "      <td>web player</td>\n",
       "      <td>0</td>\n",
       "      <td>Half Mast</td>\n",
       "      <td>Empire Of The Sun</td>\n",
       "      <td>Walking On A Dream</td>\n",
       "      <td>clickrow</td>\n",
       "      <td>nextbtn</td>\n",
       "      <td>False</td>\n",
       "      <td>False</td>\n",
       "      <td>3</td>\n",
       "      <td>8</td>\n",
       "      <td>Monday</td>\n",
       "      <td>7</td>\n",
       "      <td>2013</td>\n",
       "      <td>2013-07-08</td>\n",
       "    </tr>\n",
       "  </tbody>\n",
       "</table>\n",
       "</div>"
      ],
      "text/plain": [
       "        spotify_track_uri                  ts    platform  ms_played  \\\n",
       "0  2J3n32GeLmMjwuAzyhcSNe 2013-07-08 02:44:34  web player       3185   \n",
       "1  1oHxIPqJyvAYHy0PVrDU98 2013-07-08 02:45:37  web player      61865   \n",
       "2  487OPlneJNni3NWC8SYqhW 2013-07-08 02:50:24  web player     285386   \n",
       "3  5IyblF777jLZj1vGHG2UD3 2013-07-08 02:52:40  web player     134022   \n",
       "4  0GgAAB0ZMllFhbNc3mAodO 2013-07-08 03:17:52  web player          0   \n",
       "\n",
       "                                      track_name        artist_name  \\\n",
       "0                            Say It, Just Say It       The Mowgli's   \n",
       "1  Drinking from the Bottle (feat. Tinie Tempah)      Calvin Harris   \n",
       "2                                    Born To Die       Lana Del Rey   \n",
       "3                               Off To The Races       Lana Del Rey   \n",
       "4                                      Half Mast  Empire Of The Sun   \n",
       "\n",
       "                           album_name reason_start reason_end  shuffle  \\\n",
       "0                Waiting For The Dawn     autoplay   clickrow    False   \n",
       "1                           18 Months     clickrow   clickrow    False   \n",
       "2  Born To Die - The Paradise Edition     clickrow    unknown    False   \n",
       "3  Born To Die - The Paradise Edition    trackdone   clickrow    False   \n",
       "4                  Walking On A Dream     clickrow    nextbtn    False   \n",
       "\n",
       "   skipped  hour  day weekday  month  year        date  \n",
       "0    False     2    8  Monday      7  2013  2013-07-08  \n",
       "1    False     2    8  Monday      7  2013  2013-07-08  \n",
       "2    False     2    8  Monday      7  2013  2013-07-08  \n",
       "3    False     2    8  Monday      7  2013  2013-07-08  \n",
       "4    False     3    8  Monday      7  2013  2013-07-08  "
      ]
     },
     "execution_count": 7,
     "metadata": {},
     "output_type": "execute_result"
    }
   ],
   "source": [
    "spotify_data_cleaned.head()"
   ]
  },
  {
   "cell_type": "code",
   "execution_count": 8,
   "id": "39a5bf74",
   "metadata": {
    "execution": {
     "iopub.execute_input": "2025-07-16T16:07:13.670087Z",
     "iopub.status.busy": "2025-07-16T16:07:13.669592Z",
     "iopub.status.idle": "2025-07-16T16:07:13.746623Z",
     "shell.execute_reply": "2025-07-16T16:07:13.745797Z"
    },
    "papermill": {
     "duration": 0.088127,
     "end_time": "2025-07-16T16:07:13.748036",
     "exception": false,
     "start_time": "2025-07-16T16:07:13.659909",
     "status": "completed"
    },
    "tags": []
   },
   "outputs": [
    {
     "data": {
      "text/plain": [
       "spotify_track_uri    0\n",
       "ts                   0\n",
       "platform             0\n",
       "ms_played            0\n",
       "track_name           0\n",
       "artist_name          0\n",
       "album_name           0\n",
       "reason_start         0\n",
       "reason_end           0\n",
       "shuffle              0\n",
       "skipped              0\n",
       "hour                 0\n",
       "day                  0\n",
       "weekday              0\n",
       "month                0\n",
       "year                 0\n",
       "date                 0\n",
       "dtype: int64"
      ]
     },
     "execution_count": 8,
     "metadata": {},
     "output_type": "execute_result"
    }
   ],
   "source": [
    "spotify_data_cleaned.isnull().sum()"
   ]
  },
  {
   "cell_type": "markdown",
   "id": "5fd7b00d",
   "metadata": {
    "papermill": {
     "duration": 0.008767,
     "end_time": "2025-07-16T16:07:13.766146",
     "exception": false,
     "start_time": "2025-07-16T16:07:13.757379",
     "status": "completed"
    },
    "tags": []
   },
   "source": [
    "# **EDA**"
   ]
  },
  {
   "cell_type": "markdown",
   "id": "aefc86e9",
   "metadata": {
    "papermill": {
     "duration": 0.00868,
     "end_time": "2025-07-16T16:07:13.783644",
     "exception": false,
     "start_time": "2025-07-16T16:07:13.774964",
     "status": "completed"
    },
    "tags": []
   },
   "source": [
    "## **Track-Level Insights**"
   ]
  },
  {
   "cell_type": "code",
   "execution_count": 9,
   "id": "2d35cb6d",
   "metadata": {
    "execution": {
     "iopub.execute_input": "2025-07-16T16:07:13.872687Z",
     "iopub.status.busy": "2025-07-16T16:07:13.872279Z",
     "iopub.status.idle": "2025-07-16T16:07:13.955982Z",
     "shell.execute_reply": "2025-07-16T16:07:13.954994Z"
    },
    "papermill": {
     "duration": 0.165028,
     "end_time": "2025-07-16T16:07:13.957571",
     "exception": false,
     "start_time": "2025-07-16T16:07:13.792543",
     "status": "completed"
    },
    "tags": []
   },
   "outputs": [
    {
     "name": "stdout",
     "output_type": "stream",
     "text": [
      "------------------------------------------------------------------------------------------\n",
      "Total Tracks: 149648\n",
      "Unique Artists: 4105\n",
      "Unique Albums: 7934\n",
      "Unique Tracks: 13801\n",
      "Average play time per track: 33084.1 minutes\n",
      "Platform Used: ['web player' 'windows' 'android' 'iOS' 'cast to device' 'mac']\n",
      "------------------------------------------------------------------------------------------\n"
     ]
    }
   ],
   "source": [
    "print('-' * 90)\n",
    "avg_listen_time_per_track = (spotify_data_cleaned.groupby('track_name')['ms_played'].mean().sort_values(ascending=False)/ 60000).reset_index(name='avg_minutes_played')\n",
    "num_unique_tracks = spotify_data_cleaned['track_name'].nunique()\n",
    "num_unique_artist = spotify_data_cleaned['artist_name'].nunique()\n",
    "num_unique_album = spotify_data_cleaned['album_name'].nunique()\n",
    "\n",
    "print(f'Total Tracks: {len(spotify_data_cleaned)}')\n",
    "print(f'Unique Artists: {num_unique_artist}')\n",
    "print(f'Unique Albums: {num_unique_album}')\n",
    "print(f'Unique Tracks: {num_unique_tracks}')\n",
    "print(f'Average play time per track: {avg_listen_time_per_track[\"avg_minutes_played\"].sum():.1f} minutes')\n",
    "print(f\"Platform Used: {spotify_data_cleaned['platform'].unique()}\")\n",
    "print('-' * 90)"
   ]
  },
  {
   "cell_type": "markdown",
   "id": "496ddfb7",
   "metadata": {
    "papermill": {
     "duration": 0.009255,
     "end_time": "2025-07-16T16:07:13.976658",
     "exception": false,
     "start_time": "2025-07-16T16:07:13.967403",
     "status": "completed"
    },
    "tags": []
   },
   "source": [
    "### 1. Most played tracks"
   ]
  },
  {
   "cell_type": "code",
   "execution_count": 10,
   "id": "638136fd",
   "metadata": {
    "execution": {
     "iopub.execute_input": "2025-07-16T16:07:13.996407Z",
     "iopub.status.busy": "2025-07-16T16:07:13.995727Z",
     "iopub.status.idle": "2025-07-16T16:07:16.132946Z",
     "shell.execute_reply": "2025-07-16T16:07:16.132121Z"
    },
    "papermill": {
     "duration": 2.148618,
     "end_time": "2025-07-16T16:07:16.134290",
     "exception": false,
     "start_time": "2025-07-16T16:07:13.985672",
     "status": "completed"
    },
    "tags": []
   },
   "outputs": [
    {
     "data": {
      "text/html": [
       "<iframe\n",
       "    scrolling=\"no\"\n",
       "    width=\"100%\"\n",
       "    height=\"620\"\n",
       "    src=\"iframe_figures/figure_10.html\"\n",
       "    frameborder=\"0\"\n",
       "    allowfullscreen\n",
       "></iframe>\n"
      ]
     },
     "metadata": {},
     "output_type": "display_data"
    }
   ],
   "source": [
    "top_tracks = (\n",
    "    spotify_data_cleaned.groupby(['track_name', 'artist_name'], as_index=False)['ms_played']\n",
    "    .sum()\n",
    "    .sort_values('ms_played', ascending=False)\n",
    "    .head(10)\n",
    ")\n",
    "\n",
    "top_tracks['short_track'] = top_tracks['track_name'].str.slice(0, 20) + '...'\n",
    "top_tracks['track_display'] = top_tracks['track_name'] + ' - ' + top_tracks['artist_name']\n",
    "\n",
    "fig = px.bar(\n",
    "    data_frame=top_tracks,\n",
    "    x='short_track',\n",
    "    y='ms_played',\n",
    "    hover_name='track_display',\n",
    "    title='Top 10 Most Played Tracks',\n",
    "    color='ms_played',\n",
    "    text='ms_played',\n",
    "    labels={'track_display': 'Track - Artist', 'ms_played': 'Total Milliseconds Played'}\n",
    ")\n",
    "\n",
    "fig.update_traces(texttemplate='%{text:.2s}', textposition='outside')\n",
    "fig.update_layout(\n",
    "    xaxis_title='Tracks',\n",
    "    yaxis_title='MS Played',\n",
    "    template='plotly_dark',\n",
    "    xaxis_tickangle=-45,\n",
    "    height=600\n",
    ")\n",
    "\n",
    "fig.show(renderer='iframe')\n"
   ]
  },
  {
   "cell_type": "markdown",
   "id": "075efc5f",
   "metadata": {
    "papermill": {
     "duration": 0.008873,
     "end_time": "2025-07-16T16:07:16.152694",
     "exception": false,
     "start_time": "2025-07-16T16:07:16.143821",
     "status": "completed"
    },
    "tags": []
   },
   "source": [
    "Franchise Power: <br>\n",
    "* Multiple tracks from The Lord of the Rings suggest strong fan engagement with cinematic soundtracks.\n",
    "\n",
    "Diverse Appeal: <br>\n",
    "* Mix of genres — from rock to Latin to instrumental — shows varied user tastes.\n",
    "\n",
    "Top 3 Dominate: <br>\n",
    "* The top two tracks alone account for over 130M milliseconds — a significant chunk of total playtime."
   ]
  },
  {
   "cell_type": "markdown",
   "id": "7640b710",
   "metadata": {
    "papermill": {
     "duration": 0.008912,
     "end_time": "2025-07-16T16:07:16.170741",
     "exception": false,
     "start_time": "2025-07-16T16:07:16.161829",
     "status": "completed"
    },
    "tags": []
   },
   "source": [
    "### 2. Longest Duration Tracks"
   ]
  },
  {
   "cell_type": "code",
   "execution_count": 11,
   "id": "238a5213",
   "metadata": {
    "execution": {
     "iopub.execute_input": "2025-07-16T16:07:16.190725Z",
     "iopub.status.busy": "2025-07-16T16:07:16.190056Z",
     "iopub.status.idle": "2025-07-16T16:07:16.344582Z",
     "shell.execute_reply": "2025-07-16T16:07:16.343827Z"
    },
    "papermill": {
     "duration": 0.166006,
     "end_time": "2025-07-16T16:07:16.345899",
     "exception": false,
     "start_time": "2025-07-16T16:07:16.179893",
     "status": "completed"
    },
    "tags": []
   },
   "outputs": [
    {
     "data": {
      "text/html": [
       "<iframe\n",
       "    scrolling=\"no\"\n",
       "    width=\"100%\"\n",
       "    height=\"620\"\n",
       "    src=\"iframe_figures/figure_11.html\"\n",
       "    frameborder=\"0\"\n",
       "    allowfullscreen\n",
       "></iframe>\n"
      ]
     },
     "metadata": {},
     "output_type": "display_data"
    }
   ],
   "source": [
    "avg_listen_time_per_track = (\n",
    "    spotify_data_cleaned.groupby(['track_name', 'artist_name'], as_index=False)['ms_played']\n",
    "    .mean()\n",
    "    .sort_values(by='ms_played', ascending=False)\n",
    ")\n",
    "avg_listen_time_per_track['avg_minutes_played'] = avg_listen_time_per_track['ms_played'] / 60000\n",
    "\n",
    "avg_listen_time_per_track['short_track'] = avg_listen_time_per_track['track_name'].apply(lambda x: x[:25] + '...' if len(x) > 28 else x)\n",
    "avg_listen_time_per_track['track_display'] = avg_listen_time_per_track['track_name'] + ' - ' + avg_listen_time_per_track['artist_name']\n",
    "\n",
    "top_avg_tracks = avg_listen_time_per_track.head(10)\n",
    "\n",
    "fig = px.bar(\n",
    "    data_frame=top_avg_tracks,\n",
    "    x='short_track',\n",
    "    y='avg_minutes_played',\n",
    "    hover_name='track_display',\n",
    "    title='Average Listening Time Per Track',\n",
    "    color='avg_minutes_played',\n",
    "    text='avg_minutes_played',\n",
    "    labels={'short_track': 'Track', 'avg_minutes_played': 'Avg Minutes Played'}\n",
    ")\n",
    "\n",
    "fig.update_traces(texttemplate='%{text:.2f}', textposition='outside')\n",
    "fig.update_layout(\n",
    "    xaxis_title='Tracks',\n",
    "    yaxis_title='Avg Minutes Played',\n",
    "    template='plotly_dark',\n",
    "    xaxis_tickangle=-45,\n",
    "    height=600\n",
    ")\n",
    "\n",
    "fig.show(renderer='iframe')\n"
   ]
  },
  {
   "cell_type": "markdown",
   "id": "9f82399c",
   "metadata": {
    "papermill": {
     "duration": 0.009137,
     "end_time": "2025-07-16T16:07:16.364564",
     "exception": false,
     "start_time": "2025-07-16T16:07:16.355427",
     "status": "completed"
    },
    "tags": []
   },
   "source": [
    "Long-Form Tracks Win: <br>\n",
    "* Extended compositions like “Tubular Bells” and “Terrapin Station” hold attention longer.\n",
    "\n",
    "Live & Classical Performances Engage: <br>\n",
    "* Tracks with rich instrumentation or live energy show strong retention.\n",
    "\n",
    "Emotional & Narrative Depth Matters: <br>\n",
    "* Songs like “We Three” and “Mortal Man” suggest listeners value storytelling."
   ]
  },
  {
   "cell_type": "markdown",
   "id": "6207022c",
   "metadata": {
    "papermill": {
     "duration": 0.009647,
     "end_time": "2025-07-16T16:07:16.383616",
     "exception": false,
     "start_time": "2025-07-16T16:07:16.373969",
     "status": "completed"
    },
    "tags": []
   },
   "source": [
    "## **Time-based Usage**"
   ]
  },
  {
   "cell_type": "markdown",
   "id": "f3ef23ae",
   "metadata": {
    "papermill": {
     "duration": 0.009213,
     "end_time": "2025-07-16T16:07:16.402211",
     "exception": false,
     "start_time": "2025-07-16T16:07:16.392998",
     "status": "completed"
    },
    "tags": []
   },
   "source": [
    "### 1.  Streaming Activity by Hour"
   ]
  },
  {
   "cell_type": "code",
   "execution_count": 12,
   "id": "04efa54c",
   "metadata": {
    "execution": {
     "iopub.execute_input": "2025-07-16T16:07:16.422583Z",
     "iopub.status.busy": "2025-07-16T16:07:16.422270Z",
     "iopub.status.idle": "2025-07-16T16:07:16.529966Z",
     "shell.execute_reply": "2025-07-16T16:07:16.528938Z"
    },
    "papermill": {
     "duration": 0.119949,
     "end_time": "2025-07-16T16:07:16.531480",
     "exception": false,
     "start_time": "2025-07-16T16:07:16.411531",
     "status": "completed"
    },
    "tags": []
   },
   "outputs": [
    {
     "data": {
      "text/html": [
       "<iframe\n",
       "    scrolling=\"no\"\n",
       "    width=\"100%\"\n",
       "    height=\"520\"\n",
       "    src=\"iframe_figures/figure_12.html\"\n",
       "    frameborder=\"0\"\n",
       "    allowfullscreen\n",
       "></iframe>\n"
      ]
     },
     "metadata": {},
     "output_type": "display_data"
    }
   ],
   "source": [
    "hourly_minutes = (\n",
    "    spotify_data_cleaned.groupby('hour')['ms_played']\n",
    "    .sum()\n",
    "    .reset_index(name='total_ms_played')\n",
    ")\n",
    "\n",
    "hourly_minutes['minutes_played'] = hourly_minutes['total_ms_played'] / 60000\n",
    "\n",
    "fig = px.line(\n",
    "    hourly_minutes,\n",
    "    x='hour',\n",
    "    y='minutes_played',\n",
    "    title='Total Listening Time by Hour of Day',\n",
    "    labels={'hour': 'Hour of Day', 'minutes_played': 'Total Minutes Played'},\n",
    "    template='plotly_dark',\n",
    ")\n",
    "\n",
    "fig.update_traces(mode='lines+markers', text=hourly_minutes['minutes_played'].round(1), textposition='top center')\n",
    "\n",
    "fig.update_layout(xaxis=dict(dtick=1), height=500)\n",
    "fig.show(renderer='iframe')\n"
   ]
  },
  {
   "cell_type": "markdown",
   "id": "a0f1d10e",
   "metadata": {
    "papermill": {
     "duration": 0.009346,
     "end_time": "2025-07-16T16:07:16.550832",
     "exception": false,
     "start_time": "2025-07-16T16:07:16.541486",
     "status": "completed"
    },
    "tags": []
   },
   "source": [
    "* Peak Hours:<br>\n",
    "Listening sharply increases between 16:00 and 19:00, with 17:00 and 18:00 showing the highest activity.\n",
    "\n",
    "---\n",
    "\n",
    "* Late Night Activity:<br>\n",
    "Surprisingly, the early hours (00:00–03:00) also show relatively high playtime — likely from night owls or sleep/ambient sessions.\n",
    "\n",
    "---\n",
    "\n",
    "* Low Engagement Period:<br>\n",
    "Drops significantly between 08:00–12:00, possibly due to school/work hours."
   ]
  },
  {
   "cell_type": "markdown",
   "id": "e3248f3d",
   "metadata": {
    "papermill": {
     "duration": 0.009556,
     "end_time": "2025-07-16T16:07:16.569985",
     "exception": false,
     "start_time": "2025-07-16T16:07:16.560429",
     "status": "completed"
    },
    "tags": []
   },
   "source": [
    "### 2.  Streaming Activity by Day of Week"
   ]
  },
  {
   "cell_type": "code",
   "execution_count": 13,
   "id": "26023776",
   "metadata": {
    "execution": {
     "iopub.execute_input": "2025-07-16T16:07:16.590649Z",
     "iopub.status.busy": "2025-07-16T16:07:16.590117Z",
     "iopub.status.idle": "2025-07-16T16:07:16.671114Z",
     "shell.execute_reply": "2025-07-16T16:07:16.670228Z"
    },
    "papermill": {
     "duration": 0.093277,
     "end_time": "2025-07-16T16:07:16.672678",
     "exception": false,
     "start_time": "2025-07-16T16:07:16.579401",
     "status": "completed"
    },
    "tags": []
   },
   "outputs": [
    {
     "data": {
      "text/html": [
       "<iframe\n",
       "    scrolling=\"no\"\n",
       "    width=\"100%\"\n",
       "    height=\"545px\"\n",
       "    src=\"iframe_figures/figure_13.html\"\n",
       "    frameborder=\"0\"\n",
       "    allowfullscreen\n",
       "></iframe>\n"
      ]
     },
     "metadata": {},
     "output_type": "display_data"
    }
   ],
   "source": [
    "weekday_order = ['Monday', 'Tuesday', 'Wednesday', 'Thursday', 'Friday', 'Saturday', 'Sunday']\n",
    "\n",
    "spotify_data_cleaned['weekday'] = pd.Categorical(spotify_data_cleaned['weekday'], categories=weekday_order, ordered=True)\n",
    "weekday_activity = spotify_data_cleaned.groupby('weekday').size().reset_index(name='play_count')\n",
    "\n",
    "fig = px.line(\n",
    "    weekday_activity,\n",
    "    x='weekday',\n",
    "    y='play_count',\n",
    "    title='Streaming Activity by Day of Week',\n",
    "    template='plotly_dark'\n",
    ")\n",
    "\n",
    "fig.update_traces(mode='lines+markers')\n",
    "fig.show(renderer='iframe')"
   ]
  },
  {
   "cell_type": "markdown",
   "id": "601d7cbc",
   "metadata": {
    "papermill": {
     "duration": 0.009705,
     "end_time": "2025-07-16T16:07:16.692494",
     "exception": false,
     "start_time": "2025-07-16T16:07:16.682789",
     "status": "completed"
    },
    "tags": []
   },
   "source": [
    "Friday Peak:<br>\n",
    "* Friday has the highest streaming activity, suggesting users are more engaged heading into the weekend — perhaps due to free time, parties, or winding down the week.\n",
    "\n",
    "Weekend Drop-off:<br>\n",
    "Saturday and Sunday show the lowest activity. This may seem counterintuitive, but it might indicate:\n",
    "\n",
    "* Less structured routine = less music through the app (e.g., more socializing, travel).\n",
    "\n",
    "* Users switching to other platforms or devices not tracked.\n",
    "\n",
    "Midweek Consistency:<br>\n",
    "* Monday through Thursday are fairly balanced, with a small dip on Tuesday and a bump on Wednesday."
   ]
  },
  {
   "cell_type": "markdown",
   "id": "e931123f",
   "metadata": {
    "papermill": {
     "duration": 0.00927,
     "end_time": "2025-07-16T16:07:16.711628",
     "exception": false,
     "start_time": "2025-07-16T16:07:16.702358",
     "status": "completed"
    },
    "tags": []
   },
   "source": [
    "### 3.  Streaming Activity by Month"
   ]
  },
  {
   "cell_type": "code",
   "execution_count": 14,
   "id": "7a54c759",
   "metadata": {
    "execution": {
     "iopub.execute_input": "2025-07-16T16:07:16.733103Z",
     "iopub.status.busy": "2025-07-16T16:07:16.732759Z",
     "iopub.status.idle": "2025-07-16T16:07:16.801296Z",
     "shell.execute_reply": "2025-07-16T16:07:16.800433Z"
    },
    "papermill": {
     "duration": 0.081368,
     "end_time": "2025-07-16T16:07:16.802741",
     "exception": false,
     "start_time": "2025-07-16T16:07:16.721373",
     "status": "completed"
    },
    "tags": []
   },
   "outputs": [
    {
     "data": {
      "text/html": [
       "<iframe\n",
       "    scrolling=\"no\"\n",
       "    width=\"100%\"\n",
       "    height=\"545px\"\n",
       "    src=\"iframe_figures/figure_14.html\"\n",
       "    frameborder=\"0\"\n",
       "    allowfullscreen\n",
       "></iframe>\n"
      ]
     },
     "metadata": {},
     "output_type": "display_data"
    }
   ],
   "source": [
    "monthly_activity = spotify_data_cleaned.groupby('month').size().reset_index(name='play_count')\n",
    "\n",
    "fig = px.line(\n",
    "    monthly_activity,\n",
    "    x='month',\n",
    "    y='play_count',\n",
    "    title='Streaming Activity by Month',\n",
    "    template='plotly_dark',\n",
    ")\n",
    "\n",
    "fig.update_traces(mode='lines+markers')\n",
    "fig.show(renderer='iframe')"
   ]
  },
  {
   "cell_type": "markdown",
   "id": "0d06d776",
   "metadata": {
    "papermill": {
     "duration": 0.009414,
     "end_time": "2025-07-16T16:07:16.821831",
     "exception": false,
     "start_time": "2025-07-16T16:07:16.812417",
     "status": "completed"
    },
    "tags": []
   },
   "source": [
    "August & September Peaks\n",
    "\n",
    "Streaming activity hits its highest in **September**, with **August** close behind. This might be due to:\n",
    "\n",
    "- Back-to-school routines boosting structured habits  \n",
    "- Fewer holidays = more consistent listening patterns  \n",
    "- Possible surge in new music releases during this period  \n",
    "\n",
    "---\n",
    "\n",
    "February Dip\n",
    "\n",
    "**February** consistently shows the **lowest activity**, likely influenced by:\n",
    "\n",
    "- Fewer days in the month (only 28 or 29)  \n",
    "- Post-holiday fatigue or reset periods affecting engagement  \n",
    "\n",
    "---\n",
    "\n",
    "Summer Climb (May → August)\n",
    "\n",
    "A **gradual rise** in streaming from **May through August**, potentially linked to:\n",
    "\n",
    "- School and college breaks creating more free time  \n",
    "- Increased travel and leisure fueling playlist consumption  \n",
    "\n",
    "---\n",
    "\n",
    "Slight Year-End Decline\n",
    "\n",
    "A **dip in November and December** may stem from:\n",
    "\n",
    "- Holiday distractions pulling attention away  \n",
    "- Switching to offline listening, smart speakers, or alternative platforms  \n"
   ]
  },
  {
   "cell_type": "markdown",
   "id": "3b62834e",
   "metadata": {
    "papermill": {
     "duration": 0.009235,
     "end_time": "2025-07-16T16:07:16.840494",
     "exception": false,
     "start_time": "2025-07-16T16:07:16.831259",
     "status": "completed"
    },
    "tags": []
   },
   "source": [
    "## **Behaviour Pattern**"
   ]
  },
  {
   "cell_type": "markdown",
   "id": "3d8fafef",
   "metadata": {
    "papermill": {
     "duration": 0.009181,
     "end_time": "2025-07-16T16:07:16.859053",
     "exception": false,
     "start_time": "2025-07-16T16:07:16.849872",
     "status": "completed"
    },
    "tags": []
   },
   "source": [
    "### **Skip analysis**"
   ]
  },
  {
   "cell_type": "markdown",
   "id": "c2ca1e14",
   "metadata": {
    "papermill": {
     "duration": 0.009181,
     "end_time": "2025-07-16T16:07:16.877607",
     "exception": false,
     "start_time": "2025-07-16T16:07:16.868426",
     "status": "completed"
    },
    "tags": []
   },
   "source": [
    "#### 1. Skipped vs Non-Skipped ratio"
   ]
  },
  {
   "cell_type": "code",
   "execution_count": 15,
   "id": "2cacd42a",
   "metadata": {
    "execution": {
     "iopub.execute_input": "2025-07-16T16:07:16.898003Z",
     "iopub.status.busy": "2025-07-16T16:07:16.897340Z",
     "iopub.status.idle": "2025-07-16T16:07:16.982881Z",
     "shell.execute_reply": "2025-07-16T16:07:16.981982Z"
    },
    "papermill": {
     "duration": 0.097527,
     "end_time": "2025-07-16T16:07:16.984502",
     "exception": false,
     "start_time": "2025-07-16T16:07:16.886975",
     "status": "completed"
    },
    "tags": []
   },
   "outputs": [
    {
     "data": {
      "text/html": [
       "<iframe\n",
       "    scrolling=\"no\"\n",
       "    width=\"520px\"\n",
       "    height=\"520\"\n",
       "    src=\"iframe_figures/figure_15.html\"\n",
       "    frameborder=\"0\"\n",
       "    allowfullscreen\n",
       "></iframe>\n"
      ]
     },
     "metadata": {},
     "output_type": "display_data"
    }
   ],
   "source": [
    "skiped_counts = spotify_data_cleaned['skipped'].value_counts().reset_index()\n",
    "skiped_counts.columns = ['skipped', 'Count']\n",
    "\n",
    "fig = px.pie(\n",
    "    skiped_counts,\n",
    "    values='Count',\n",
    "    names='skipped',\n",
    "    title='Skipped vs Non-skipped Tracks',\n",
    "    hole=0.4,\n",
    "    template='plotly_dark',\n",
    "    color_discrete_sequence=[\"#1ED62A\", \"#DD5907\"],\n",
    "    height=500,\n",
    "    width=500\n",
    ")\n",
    "\n",
    "fig.show(renderer='iframe')"
   ]
  },
  {
   "cell_type": "markdown",
   "id": "a0bd84ea",
   "metadata": {
    "papermill": {
     "duration": 0.009496,
     "end_time": "2025-07-16T16:07:17.003925",
     "exception": false,
     "start_time": "2025-07-16T16:07:16.994429",
     "status": "completed"
    },
    "tags": []
   },
   "source": [
    "Non-skipped Tracks (false) — **94.8%**\n",
    "\n",
    "* A vast majority of tracks are listened to without being skipped.\n",
    "\n",
    "Skipped Tracks (true) — **5.18%**\n",
    "\n",
    "* A relatively low skip rate, which is a good sign."
   ]
  },
  {
   "cell_type": "markdown",
   "id": "f78b845f",
   "metadata": {
    "papermill": {
     "duration": 0.00937,
     "end_time": "2025-07-16T16:07:17.023164",
     "exception": false,
     "start_time": "2025-07-16T16:07:17.013794",
     "status": "completed"
    },
    "tags": []
   },
   "source": [
    "#### 2. Number of Skips per Songs"
   ]
  },
  {
   "cell_type": "code",
   "execution_count": 16,
   "id": "2203ba20",
   "metadata": {
    "execution": {
     "iopub.execute_input": "2025-07-16T16:07:17.043589Z",
     "iopub.status.busy": "2025-07-16T16:07:17.043238Z",
     "iopub.status.idle": "2025-07-16T16:07:17.132721Z",
     "shell.execute_reply": "2025-07-16T16:07:17.131901Z"
    },
    "papermill": {
     "duration": 0.101446,
     "end_time": "2025-07-16T16:07:17.134192",
     "exception": false,
     "start_time": "2025-07-16T16:07:17.032746",
     "status": "completed"
    },
    "tags": []
   },
   "outputs": [
    {
     "data": {
      "text/html": [
       "<iframe\n",
       "    scrolling=\"no\"\n",
       "    width=\"100%\"\n",
       "    height=\"620\"\n",
       "    src=\"iframe_figures/figure_16.html\"\n",
       "    frameborder=\"0\"\n",
       "    allowfullscreen\n",
       "></iframe>\n"
      ]
     },
     "metadata": {},
     "output_type": "display_data"
    }
   ],
   "source": [
    "top_skipped_tracks = (\n",
    "    spotify_data_cleaned[spotify_data_cleaned['skipped'] == True]\n",
    "    .groupby(['track_name', 'artist_name'], as_index=False)\n",
    "    .size()\n",
    "    .sort_values(by='size', ascending=False)\n",
    "    .rename(columns={'size': 'skip_count'})\n",
    ")\n",
    "\n",
    "top_skipped_tracks['track_display'] = top_skipped_tracks['track_name'] + ' - ' + top_skipped_tracks['artist_name']\n",
    "top_skipped_tracks['short_track'] = top_skipped_tracks['track_name'].apply(lambda x: x[:25] + '...' if len(x) > 28 else x)\n",
    "\n",
    "fig = px.bar(\n",
    "    top_skipped_tracks.head(10),\n",
    "    x='short_track',\n",
    "    y='skip_count',\n",
    "    text='skip_count',\n",
    "    hover_name='track_display',\n",
    "    title='Top Skipped Tracks',\n",
    "    template='plotly_dark',\n",
    "    labels={'short_track': 'Track', 'skip_count': 'Skips'},\n",
    "    color='skip_count'\n",
    ")\n",
    "\n",
    "fig.update_traces(textposition='outside')\n",
    "fig.update_layout(xaxis_tickangle=-45, height=600)\n",
    "fig.show(renderer='iframe')\n"
   ]
  },
  {
   "cell_type": "markdown",
   "id": "e5c48e60",
   "metadata": {
    "papermill": {
     "duration": 0.010364,
     "end_time": "2025-07-16T16:07:17.154698",
     "exception": false,
     "start_time": "2025-07-16T16:07:17.144334",
     "status": "completed"
    },
    "tags": []
   },
   "source": [
    "* **Paraiso** stands out with a significantly higher number of skips.\n",
    "\n",
    "* Most other tracks cluster between 14–21 skips."
   ]
  },
  {
   "cell_type": "markdown",
   "id": "235de47e",
   "metadata": {
    "papermill": {
     "duration": 0.010091,
     "end_time": "2025-07-16T16:07:17.174600",
     "exception": false,
     "start_time": "2025-07-16T16:07:17.164509",
     "status": "completed"
    },
    "tags": []
   },
   "source": [
    "#### 3. Artists with highest skip Ratio"
   ]
  },
  {
   "cell_type": "code",
   "execution_count": 17,
   "id": "b58eefa1",
   "metadata": {
    "execution": {
     "iopub.execute_input": "2025-07-16T16:07:17.195772Z",
     "iopub.status.busy": "2025-07-16T16:07:17.195014Z",
     "iopub.status.idle": "2025-07-16T16:07:17.230369Z",
     "shell.execute_reply": "2025-07-16T16:07:17.229572Z"
    },
    "papermill": {
     "duration": 0.047741,
     "end_time": "2025-07-16T16:07:17.231991",
     "exception": false,
     "start_time": "2025-07-16T16:07:17.184250",
     "status": "completed"
    },
    "tags": []
   },
   "outputs": [],
   "source": [
    "total_plays_per_artist = spotify_data_cleaned.groupby('artist_name').size().reset_index(name='total_plays')\n",
    "\n",
    "skips_per_artist = spotify_data_cleaned[spotify_data_cleaned['skipped'] == True] \\\n",
    "    .groupby('artist_name').size().reset_index(name='skips')\n",
    "\n",
    "artist_skip_ratio = pd.merge(skips_per_artist, total_plays_per_artist, on='artist_name')\n",
    "artist_skip_ratio['skip_ratio'] = artist_skip_ratio['skips'] / artist_skip_ratio['total_plays']\n",
    "\n",
    "# Top 10 by skip ratio\n",
    "top_skip_ratio = artist_skip_ratio[artist_skip_ratio['total_plays'] >= 30] \\\n",
    "    .sort_values('skip_ratio', ascending=False).head(10)\n"
   ]
  },
  {
   "cell_type": "code",
   "execution_count": 18,
   "id": "878b81df",
   "metadata": {
    "execution": {
     "iopub.execute_input": "2025-07-16T16:07:17.253703Z",
     "iopub.status.busy": "2025-07-16T16:07:17.253386Z",
     "iopub.status.idle": "2025-07-16T16:07:17.324313Z",
     "shell.execute_reply": "2025-07-16T16:07:17.323543Z"
    },
    "papermill": {
     "duration": 0.083712,
     "end_time": "2025-07-16T16:07:17.325721",
     "exception": false,
     "start_time": "2025-07-16T16:07:17.242009",
     "status": "completed"
    },
    "tags": []
   },
   "outputs": [
    {
     "data": {
      "text/html": [
       "<iframe\n",
       "    scrolling=\"no\"\n",
       "    width=\"100%\"\n",
       "    height=\"620\"\n",
       "    src=\"iframe_figures/figure_18.html\"\n",
       "    frameborder=\"0\"\n",
       "    allowfullscreen\n",
       "></iframe>\n"
      ]
     },
     "metadata": {},
     "output_type": "display_data"
    }
   ],
   "source": [
    "fig = px.bar(\n",
    "    top_skip_ratio,\n",
    "    x='artist_name',\n",
    "    y='skip_ratio',\n",
    "    title='Artists with Highest Skip Ratio',\n",
    "    template='plotly_dark',\n",
    "    text='skip_ratio',\n",
    "    labels={'artist_name': 'Artist', 'skip_ratio': 'Skip Ratio'},\n",
    "    color='skip_ratio',\n",
    "    height=600\n",
    ")\n",
    "fig.update_traces(texttemplate='%{text:.2%}', textposition='outside')\n",
    "fig.update_layout(xaxis_tickangle=-45)\n",
    "fig.show(renderer='iframe')\n"
   ]
  },
  {
   "cell_type": "markdown",
   "id": "46f01a55",
   "metadata": {
    "papermill": {
     "duration": 0.010474,
     "end_time": "2025-07-16T16:07:17.346350",
     "exception": false,
     "start_time": "2025-07-16T16:07:17.335876",
     "status": "completed"
    },
    "tags": []
   },
   "source": [
    "* **Dvicio** and **The Notorious B.I.G.** have extremely high skip rates (>80%), indicating that most plays are skipped quickly. These could be accidental plays, playlist fillers, or mismatch with your music taste.\n",
    "\n",
    "* **One Direction** also has a notable skip rate, suggesting inconsistent interest across their tracks.\n",
    "\n",
    "* Artists like **Kygo** and **Stevie Wonder** appear lower on the list with ~35% skip ratios, which is relatively moderate."
   ]
  },
  {
   "cell_type": "markdown",
   "id": "821c18c2",
   "metadata": {
    "papermill": {
     "duration": 0.009817,
     "end_time": "2025-07-16T16:07:17.366026",
     "exception": false,
     "start_time": "2025-07-16T16:07:17.356209",
     "status": "completed"
    },
    "tags": []
   },
   "source": [
    "#### 4. Tracks Frequently Clicked but Immediately Skipped"
   ]
  },
  {
   "cell_type": "code",
   "execution_count": 19,
   "id": "e4218903",
   "metadata": {
    "execution": {
     "iopub.execute_input": "2025-07-16T16:07:17.386812Z",
     "iopub.status.busy": "2025-07-16T16:07:17.386520Z",
     "iopub.status.idle": "2025-07-16T16:07:17.475225Z",
     "shell.execute_reply": "2025-07-16T16:07:17.474515Z"
    },
    "papermill": {
     "duration": 0.100833,
     "end_time": "2025-07-16T16:07:17.476593",
     "exception": false,
     "start_time": "2025-07-16T16:07:17.375760",
     "status": "completed"
    },
    "tags": []
   },
   "outputs": [
    {
     "data": {
      "text/html": [
       "<iframe\n",
       "    scrolling=\"no\"\n",
       "    width=\"100%\"\n",
       "    height=\"620\"\n",
       "    src=\"iframe_figures/figure_19.html\"\n",
       "    frameborder=\"0\"\n",
       "    allowfullscreen\n",
       "></iframe>\n"
      ]
     },
     "metadata": {},
     "output_type": "display_data"
    }
   ],
   "source": [
    "clicked_but_skipped = spotify_data_cleaned[\n",
    "    (spotify_data_cleaned['reason_start'] == 'clickrow') &\n",
    "    (spotify_data_cleaned['ms_played'] == 0)\n",
    "]\n",
    "\n",
    "top_clicked_skipped = (\n",
    "    clicked_but_skipped.groupby(['track_name', 'artist_name'], as_index=False)\n",
    "    .size()\n",
    "    .sort_values(by='size', ascending=False)\n",
    "    .rename(columns={'size': 'immediate_skips'})\n",
    ")\n",
    "\n",
    "top_clicked_skipped['track_display'] = top_clicked_skipped['track_name'] + ' - ' + top_clicked_skipped['artist_name']\n",
    "top_clicked_skipped['short_track'] = top_clicked_skipped['track_name'].apply(lambda x: x[:25] + '...' if len(x) > 28 else x)\n",
    "\n",
    "fig = px.bar(\n",
    "    top_clicked_skipped.head(10),\n",
    "    x='short_track',\n",
    "    y='immediate_skips',\n",
    "    text='immediate_skips',\n",
    "    hover_name='track_display',\n",
    "    title='Tracks Clicked but Skipped Instantly',\n",
    "    template='plotly_dark',\n",
    "    color='immediate_skips',\n",
    "    labels={'short_track': 'Track', 'immediate_skips': 'Instant Skips'}\n",
    ")\n",
    "\n",
    "fig.update_traces(textposition='outside')\n",
    "fig.update_layout(xaxis_tickangle=-45, height=600)\n",
    "fig.show(renderer='iframe')\n"
   ]
  },
  {
   "cell_type": "markdown",
   "id": "eb83e629",
   "metadata": {
    "papermill": {
     "duration": 0.00965,
     "end_time": "2025-07-16T16:07:17.496622",
     "exception": false,
     "start_time": "2025-07-16T16:07:17.486972",
     "status": "completed"
    },
    "tags": []
   },
   "source": [
    "## **Reason Analysis**"
   ]
  },
  {
   "cell_type": "markdown",
   "id": "ef24bd63",
   "metadata": {
    "papermill": {
     "duration": 0.009458,
     "end_time": "2025-07-16T16:07:17.515773",
     "exception": false,
     "start_time": "2025-07-16T16:07:17.506315",
     "status": "completed"
    },
    "tags": []
   },
   "source": [
    "### 1. Distribution of reason_start and reason_end"
   ]
  },
  {
   "cell_type": "code",
   "execution_count": 20,
   "id": "ed69173d",
   "metadata": {
    "execution": {
     "iopub.execute_input": "2025-07-16T16:07:17.536956Z",
     "iopub.status.busy": "2025-07-16T16:07:17.536335Z",
     "iopub.status.idle": "2025-07-16T16:07:17.696503Z",
     "shell.execute_reply": "2025-07-16T16:07:17.695685Z"
    },
    "papermill": {
     "duration": 0.172405,
     "end_time": "2025-07-16T16:07:17.697972",
     "exception": false,
     "start_time": "2025-07-16T16:07:17.525567",
     "status": "completed"
    },
    "tags": []
   },
   "outputs": [
    {
     "data": {
      "text/html": [
       "<iframe\n",
       "    scrolling=\"no\"\n",
       "    width=\"100%\"\n",
       "    height=\"560\"\n",
       "    src=\"iframe_figures/figure_20.html\"\n",
       "    frameborder=\"0\"\n",
       "    allowfullscreen\n",
       "></iframe>\n"
      ]
     },
     "metadata": {},
     "output_type": "display_data"
    },
    {
     "data": {
      "text/html": [
       "<iframe\n",
       "    scrolling=\"no\"\n",
       "    width=\"100%\"\n",
       "    height=\"600\"\n",
       "    src=\"iframe_figures/figure_20.html\"\n",
       "    frameborder=\"0\"\n",
       "    allowfullscreen\n",
       "></iframe>\n"
      ]
     },
     "metadata": {},
     "output_type": "display_data"
    }
   ],
   "source": [
    "# Frequency of reason_start\n",
    "start_reason_counts = spotify_data_cleaned['reason_start'].value_counts().reset_index()\n",
    "start_reason_counts.columns = ['reason_start', 'count']\n",
    "\n",
    "fig1 = px.bar(\n",
    "    start_reason_counts,\n",
    "    x='reason_start',\n",
    "    y='count',\n",
    "    title='Frequency of reason_start',\n",
    "    text='count',\n",
    "    template='plotly_dark',\n",
    "    color='count',\n",
    "    height=540\n",
    ")\n",
    "fig1.update_traces(textposition='outside')\n",
    "fig1.update_layout(xaxis_tickangle=-45)\n",
    "fig1.show(renderer='iframe')\n",
    "\n",
    "# Frequency of reason_end\n",
    "end_reason_counts = spotify_data_cleaned['reason_end'].value_counts().reset_index()\n",
    "end_reason_counts.columns = ['reason_end', 'count']\n",
    "\n",
    "fig2 = px.bar(\n",
    "    end_reason_counts,\n",
    "    x='reason_end',\n",
    "    y='count',\n",
    "    title='Frequency of reason_end',\n",
    "    text='count',\n",
    "    template='plotly_dark',\n",
    "    color='count',\n",
    "    height=580\n",
    ")\n",
    "fig2.update_traces(textposition='outside')\n",
    "fig2.update_layout(xaxis_tickangle=-45)\n",
    "fig2.show(renderer='iframe')\n"
   ]
  },
  {
   "cell_type": "markdown",
   "id": "3628bd6f",
   "metadata": {
    "papermill": {
     "duration": 0.009846,
     "end_time": "2025-07-16T16:07:17.718159",
     "exception": false,
     "start_time": "2025-07-16T16:07:17.708313",
     "status": "completed"
    },
    "tags": []
   },
   "source": [
    "#### **Reason Start**\n",
    "Majority of Tracks Start Automatically (trackdone – **76.5k**): <br>\n",
    "\n",
    "* Most playback begins when the previous track finishes.\n",
    "\n",
    "* Indicates users often listen in a continuous flow (playlists, albums, or radio).\n",
    "\n",
    "High Manual Skipping (fwdbtn – **53.7k**): <br>\n",
    "\n",
    "* A significant portion of listening involves users hitting “Next.”\n",
    "\n",
    "* Suggests low listener engagement with many tracks or exploratory behavior.\n",
    "\n",
    "Direct Click Plays (clickrow – **11.2k**): <br>\n",
    "\n",
    "* Tracks were explicitly chosen by users.\n",
    "\n",
    "#### **Reason End**\n",
    "trackdone:<br>\n",
    "* Most frequent reason with **77,110** occurrences. Likely indicates users completing a track or activity.\n",
    "\n",
    "fwdbtn:<br>\n",
    "* Second highest with **53,462** occurrences. Suggests users actively navigating forward.\n",
    "\n",
    "endplay:<br>\n",
    "* Third with **10,116** occurrences. Possibly users manually stopping playback.\n",
    "\n",
    "User Intent: <br>\n",
    "* High counts for trackdone and fwdbtn suggest intentional and goal-oriented user behavior.\n",
    "\n",
    "Experience Gaps: <br>\n",
    "* Unexpected exits (paused or otherwise) may point to technical issues or user frustration.\n",
    "\n",
    "Rare Events:<br>\n",
    "* Low-frequency reasons like trackererror or popup might be edge cases but worth monitoring for anomalies.\n"
   ]
  },
  {
   "cell_type": "markdown",
   "id": "c822d966",
   "metadata": {
    "papermill": {
     "duration": 0.009855,
     "end_time": "2025-07-16T16:07:17.738979",
     "exception": false,
     "start_time": "2025-07-16T16:07:17.729124",
     "status": "completed"
    },
    "tags": []
   },
   "source": [
    "### 2. Start reason most associated with skips"
   ]
  },
  {
   "cell_type": "code",
   "execution_count": 21,
   "id": "5462ea7c",
   "metadata": {
    "execution": {
     "iopub.execute_input": "2025-07-16T16:07:17.759930Z",
     "iopub.status.busy": "2025-07-16T16:07:17.759604Z",
     "iopub.status.idle": "2025-07-16T16:07:17.842900Z",
     "shell.execute_reply": "2025-07-16T16:07:17.842044Z"
    },
    "papermill": {
     "duration": 0.095638,
     "end_time": "2025-07-16T16:07:17.844394",
     "exception": false,
     "start_time": "2025-07-16T16:07:17.748756",
     "status": "completed"
    },
    "tags": []
   },
   "outputs": [
    {
     "data": {
      "text/html": [
       "<iframe\n",
       "    scrolling=\"no\"\n",
       "    width=\"100%\"\n",
       "    height=\"520\"\n",
       "    src=\"iframe_figures/figure_21.html\"\n",
       "    frameborder=\"0\"\n",
       "    allowfullscreen\n",
       "></iframe>\n"
      ]
     },
     "metadata": {},
     "output_type": "display_data"
    }
   ],
   "source": [
    "skip_rate_by_reason_start = (\n",
    "    spotify_data_cleaned.groupby('reason_start')['skipped']\n",
    "    .mean()\n",
    "    .reset_index()\n",
    "    .rename(columns={'skipped': 'skip_rate'})\n",
    "    .sort_values(by='skip_rate', ascending=False)\n",
    ")\n",
    "\n",
    "fig = px.bar(\n",
    "    skip_rate_by_reason_start,\n",
    "    x='reason_start',\n",
    "    y='skip_rate',\n",
    "    text=skip_rate_by_reason_start['skip_rate'].apply(lambda x: f'{x:.2%}'),\n",
    "    title='Skip Rate by reason_start',\n",
    "    template='plotly_dark',\n",
    "    color='skip_rate',\n",
    "    labels={'reason_start': 'Start Reason', 'skip_rate': 'Skip Rate'},\n",
    "    height=500\n",
    ")\n",
    "\n",
    "fig.update_traces(textposition='outside')\n",
    "fig.update_layout(xaxis_tickangle=-45)\n",
    "fig.show(renderer='iframe')\n"
   ]
  },
  {
   "cell_type": "markdown",
   "id": "07918e6d",
   "metadata": {
    "papermill": {
     "duration": 0.009869,
     "end_time": "2025-07-16T16:07:17.864672",
     "exception": false,
     "start_time": "2025-07-16T16:07:17.854803",
     "status": "completed"
    },
    "tags": []
   },
   "source": [
    "Popups Are Problematic:<br>\n",
    "* With a 100% skip rate, popups may be disrupting user flow. Consider redesigning or removing them.\n",
    "\n",
    "Autoplay & Endplay Work Well:<br>\n",
    "* These passive or completion-based starts retain users effectively.\n",
    "\n",
    "Manual Actions Vary:<br>\n",
    "* clickrow, fwdbtn, and backbtn show moderate skip rates — suggesting room for UX improvement."
   ]
  },
  {
   "cell_type": "markdown",
   "id": "fb6f1221",
   "metadata": {
    "papermill": {
     "duration": 0.009688,
     "end_time": "2025-07-16T16:07:17.884389",
     "exception": false,
     "start_time": "2025-07-16T16:07:17.874701",
     "status": "completed"
    },
    "tags": []
   },
   "source": [
    "## **Platform Usage**"
   ]
  },
  {
   "cell_type": "markdown",
   "id": "30ea4fca",
   "metadata": {
    "papermill": {
     "duration": 0.009643,
     "end_time": "2025-07-16T16:07:17.904002",
     "exception": false,
     "start_time": "2025-07-16T16:07:17.894359",
     "status": "completed"
    },
    "tags": []
   },
   "source": [
    "### 1. Number of Session by Platforms"
   ]
  },
  {
   "cell_type": "code",
   "execution_count": 22,
   "id": "e7c18657",
   "metadata": {
    "execution": {
     "iopub.execute_input": "2025-07-16T16:07:17.925509Z",
     "iopub.status.busy": "2025-07-16T16:07:17.924730Z",
     "iopub.status.idle": "2025-07-16T16:07:18.006373Z",
     "shell.execute_reply": "2025-07-16T16:07:18.005601Z"
    },
    "papermill": {
     "duration": 0.093828,
     "end_time": "2025-07-16T16:07:18.007777",
     "exception": false,
     "start_time": "2025-07-16T16:07:17.913949",
     "status": "completed"
    },
    "tags": []
   },
   "outputs": [
    {
     "data": {
      "text/html": [
       "<iframe\n",
       "    scrolling=\"no\"\n",
       "    width=\"100%\"\n",
       "    height=\"520\"\n",
       "    src=\"iframe_figures/figure_22.html\"\n",
       "    frameborder=\"0\"\n",
       "    allowfullscreen\n",
       "></iframe>\n"
      ]
     },
     "metadata": {},
     "output_type": "display_data"
    }
   ],
   "source": [
    "platform_counts = spotify_data_cleaned['platform'].value_counts().reset_index()\n",
    "platform_counts.columns = ['platform', 'session_count']\n",
    "\n",
    "fig1 = px.bar(\n",
    "    platform_counts,\n",
    "    x='platform',\n",
    "    y='session_count',\n",
    "    text='session_count',\n",
    "    title='Number of Sessions by Platform',\n",
    "    template='plotly_dark',\n",
    "    color='session_count',\n",
    "    height=500\n",
    ")\n",
    "fig1.update_traces(textposition='outside')\n",
    "fig1.update_layout(xaxis_tickangle=-45)\n",
    "fig1.show(renderer='iframe')\n"
   ]
  },
  {
   "cell_type": "markdown",
   "id": "f59ee05f",
   "metadata": {
    "papermill": {
     "duration": 0.009855,
     "end_time": "2025-07-16T16:07:18.027922",
     "exception": false,
     "start_time": "2025-07-16T16:07:18.018067",
     "status": "completed"
    },
    "tags": []
   },
   "source": [
    "Android Is King: <br>\n",
    "* The overwhelming session count suggests Android should be the focus for optimization, feature rollout, and testing.\n",
    "\n",
    "iOS Opportunity: <br>\n",
    "* If parity in features exists, marketing or UX tweaks could boost iOS engagement.\n",
    "\n",
    "Web Player Underperformance: <br>\n",
    "* With only 225 sessions, it may need better visibility or functionality improvements.\n",
    "\n",
    "Cross-Device Potential: <br>\n",
    "* “Cast to Device” shows users are interested in flexible playback — a good area to expand."
   ]
  },
  {
   "cell_type": "markdown",
   "id": "d35df404",
   "metadata": {
    "papermill": {
     "duration": 0.009879,
     "end_time": "2025-07-16T16:07:18.047910",
     "exception": false,
     "start_time": "2025-07-16T16:07:18.038031",
     "status": "completed"
    },
    "tags": []
   },
   "source": [
    "### 2. Skip Rate per Platform"
   ]
  },
  {
   "cell_type": "code",
   "execution_count": 23,
   "id": "56bb30d5",
   "metadata": {
    "execution": {
     "iopub.execute_input": "2025-07-16T16:07:18.069307Z",
     "iopub.status.busy": "2025-07-16T16:07:18.069000Z",
     "iopub.status.idle": "2025-07-16T16:07:18.150031Z",
     "shell.execute_reply": "2025-07-16T16:07:18.149220Z"
    },
    "papermill": {
     "duration": 0.093465,
     "end_time": "2025-07-16T16:07:18.151486",
     "exception": false,
     "start_time": "2025-07-16T16:07:18.058021",
     "status": "completed"
    },
    "tags": []
   },
   "outputs": [
    {
     "data": {
      "text/html": [
       "<iframe\n",
       "    scrolling=\"no\"\n",
       "    width=\"100%\"\n",
       "    height=\"520\"\n",
       "    src=\"iframe_figures/figure_23.html\"\n",
       "    frameborder=\"0\"\n",
       "    allowfullscreen\n",
       "></iframe>\n"
      ]
     },
     "metadata": {},
     "output_type": "display_data"
    }
   ],
   "source": [
    "skip_rate_by_platform = (\n",
    "    spotify_data_cleaned.groupby('platform')['skipped']\n",
    "    .mean()\n",
    "    .reset_index()\n",
    "    .rename(columns={'skipped': 'skip_rate'})\n",
    "    .sort_values(by='skip_rate', ascending=False)\n",
    ")\n",
    "\n",
    "fig2 = px.bar(\n",
    "    skip_rate_by_platform,\n",
    "    x='platform',\n",
    "    y='skip_rate',\n",
    "    text=skip_rate_by_platform['skip_rate'].apply(lambda x: f'{x:.2%}'),\n",
    "    title='Skip Rate by Platform',\n",
    "    color='skip_rate',\n",
    "    template='plotly_dark',\n",
    "    labels={'skip_rate': 'Skip Rate'},\n",
    "    height=500\n",
    ")\n",
    "fig2.update_traces(textposition='outside')\n",
    "fig2.update_layout(xaxis_tickangle=-45)\n",
    "fig2.show(renderer='iframe')\n"
   ]
  },
  {
   "cell_type": "markdown",
   "id": "2f39dd20",
   "metadata": {
    "papermill": {
     "duration": 0.009802,
     "end_time": "2025-07-16T16:07:18.171708",
     "exception": false,
     "start_time": "2025-07-16T16:07:18.161906",
     "status": "completed"
    },
    "tags": []
   },
   "source": [
    "Windows Needs Attention: \n",
    "* The highest skip rate suggests potential friction — investigate UI, performance, or content relevance.\n",
    "\n",
    "Apple Ecosystem Consistency: \n",
    "* iOS and Mac show similar skip behavior, hinting at shared UX patterns.\n",
    "\n",
    "Android Strength: \n",
    "* Low skip rate aligns with its high session count — a well-performing platform.\n",
    "\n",
    "Casting Wins: \n",
    "* Zero skips imply casting is a deliberate and satisfying experience.\n",
    "\n",
    "Web Player Curiosity:\n",
    "* Zero skips may be due to low usage or highly targeted sessions — worth exploring further."
   ]
  },
  {
   "cell_type": "markdown",
   "id": "7276873e",
   "metadata": {
    "papermill": {
     "duration": 0.009858,
     "end_time": "2025-07-16T16:07:18.191574",
     "exception": false,
     "start_time": "2025-07-16T16:07:18.181716",
     "status": "completed"
    },
    "tags": []
   },
   "source": [
    "## **Shuffle Analysis**"
   ]
  },
  {
   "cell_type": "markdown",
   "id": "0172d35b",
   "metadata": {
    "papermill": {
     "duration": 0.00995,
     "end_time": "2025-07-16T16:07:18.211686",
     "exception": false,
     "start_time": "2025-07-16T16:07:18.201736",
     "status": "completed"
    },
    "tags": []
   },
   "source": [
    "### 1. Average Playtime By Shuffle Mode"
   ]
  },
  {
   "cell_type": "code",
   "execution_count": 24,
   "id": "2cd6ca2d",
   "metadata": {
    "execution": {
     "iopub.execute_input": "2025-07-16T16:07:18.233815Z",
     "iopub.status.busy": "2025-07-16T16:07:18.233089Z",
     "iopub.status.idle": "2025-07-16T16:07:18.300028Z",
     "shell.execute_reply": "2025-07-16T16:07:18.299304Z"
    },
    "papermill": {
     "duration": 0.079454,
     "end_time": "2025-07-16T16:07:18.301378",
     "exception": false,
     "start_time": "2025-07-16T16:07:18.221924",
     "status": "completed"
    },
    "tags": []
   },
   "outputs": [
    {
     "data": {
      "text/html": [
       "<iframe\n",
       "    scrolling=\"no\"\n",
       "    width=\"520px\"\n",
       "    height=\"520\"\n",
       "    src=\"iframe_figures/figure_24.html\"\n",
       "    frameborder=\"0\"\n",
       "    allowfullscreen\n",
       "></iframe>\n"
      ]
     },
     "metadata": {},
     "output_type": "display_data"
    }
   ],
   "source": [
    "avg_playtime_shuffle = (\n",
    "    spotify_data_cleaned.groupby('shuffle')['ms_played']\n",
    "    .mean()\n",
    "    .reset_index()\n",
    ")\n",
    "\n",
    "avg_playtime_shuffle['minutes_played'] = avg_playtime_shuffle['ms_played'] / 60000\n",
    "\n",
    "fig1 = px.pie(\n",
    "    avg_playtime_shuffle,\n",
    "    values='minutes_played',\n",
    "    names='shuffle',\n",
    "    title='Average Playtime (in Minutes) by Shuffle Mode',\n",
    "    color_discrete_sequence=[\"#1ED62A\", \"#DD5907\"],\n",
    "    template='plotly_dark',\n",
    "    height=500,\n",
    "    width=500\n",
    ")\n",
    "\n",
    "fig1.update_traces(textinfo='label+percent+value', texttemplate='%{label}: %{value:.2f} min')\n",
    "fig1.show(renderer='iframe')\n"
   ]
  },
  {
   "cell_type": "markdown",
   "id": "177da144",
   "metadata": {
    "papermill": {
     "duration": 0.010071,
     "end_time": "2025-07-16T16:07:18.321800",
     "exception": false,
     "start_time": "2025-07-16T16:07:18.311729",
     "status": "completed"
    },
    "tags": []
   },
   "source": [
    "Shuffle Reduces Engagement: \n",
    "* Users spend significantly less time when shuffle is enabled — possibly due to lack of control or mismatch in content.\n",
    "\n",
    "Intentional Listening Wins: \n",
    "* Non-shuffle sessions suggest users are more invested in specific tracks or sequences."
   ]
  },
  {
   "cell_type": "markdown",
   "id": "175123f3",
   "metadata": {
    "papermill": {
     "duration": 0.009927,
     "end_time": "2025-07-16T16:07:18.341774",
     "exception": false,
     "start_time": "2025-07-16T16:07:18.331847",
     "status": "completed"
    },
    "tags": []
   },
   "source": [
    "### 2. Skip Rate By Shuffle Mode"
   ]
  },
  {
   "cell_type": "code",
   "execution_count": 25,
   "id": "6b497142",
   "metadata": {
    "execution": {
     "iopub.execute_input": "2025-07-16T16:07:18.363741Z",
     "iopub.status.busy": "2025-07-16T16:07:18.363123Z",
     "iopub.status.idle": "2025-07-16T16:07:18.426033Z",
     "shell.execute_reply": "2025-07-16T16:07:18.425237Z"
    },
    "papermill": {
     "duration": 0.075449,
     "end_time": "2025-07-16T16:07:18.427320",
     "exception": false,
     "start_time": "2025-07-16T16:07:18.351871",
     "status": "completed"
    },
    "tags": []
   },
   "outputs": [
    {
     "data": {
      "text/html": [
       "<iframe\n",
       "    scrolling=\"no\"\n",
       "    width=\"520px\"\n",
       "    height=\"520\"\n",
       "    src=\"iframe_figures/figure_25.html\"\n",
       "    frameborder=\"0\"\n",
       "    allowfullscreen\n",
       "></iframe>\n"
      ]
     },
     "metadata": {},
     "output_type": "display_data"
    }
   ],
   "source": [
    "skip_rate_shuffle = (\n",
    "    spotify_data_cleaned.groupby('shuffle')['skipped']\n",
    "    .mean()\n",
    "    .reset_index()\n",
    "    .rename(columns={'skipped': 'skip_rate'})\n",
    ")\n",
    "\n",
    "fig = px.pie(\n",
    "    skip_rate_shuffle,\n",
    "    values='skip_rate',\n",
    "    names='shuffle',\n",
    "    title='Skip Rate by Shuffle Mode',\n",
    "    color_discrete_sequence=[\"#1ED62A\", \"#DD5907\"],\n",
    "    template='plotly_dark',\n",
    "    height=500,\n",
    "    width=500\n",
    ")\n",
    "\n",
    "fig.update_traces(textinfo='percent+label')\n",
    "fig.update_layout(showlegend=True)\n",
    "fig.show(renderer='iframe')"
   ]
  },
  {
   "cell_type": "markdown",
   "id": "23238b27",
   "metadata": {
    "papermill": {
     "duration": 0.010186,
     "end_time": "2025-07-16T16:07:18.448248",
     "exception": false,
     "start_time": "2025-07-16T16:07:18.438062",
     "status": "completed"
    },
    "tags": []
   },
   "source": [
    "Shuffle May Disrupt Flow: \n",
    "* The higher skip rate suggests that randomized playback might not align with user expectations or mood.\n",
    "\n",
    "Sequential Listening Is Stickier: \n",
    "* Users appear more committed when content follows a set order."
   ]
  }
 ],
 "metadata": {
  "kaggle": {
   "accelerator": "none",
   "dataSources": [
    {
     "datasetId": 7664666,
     "sourceId": 12169660,
     "sourceType": "datasetVersion"
    }
   ],
   "dockerImageVersionId": 31089,
   "isGpuEnabled": false,
   "isInternetEnabled": false,
   "language": "python",
   "sourceType": "notebook"
  },
  "kernelspec": {
   "display_name": "Python 3",
   "language": "python",
   "name": "python3"
  },
  "language_info": {
   "codemirror_mode": {
    "name": "ipython",
    "version": 3
   },
   "file_extension": ".py",
   "mimetype": "text/x-python",
   "name": "python",
   "nbconvert_exporter": "python",
   "pygments_lexer": "ipython3",
   "version": "3.11.13"
  },
  "papermill": {
   "default_parameters": {},
   "duration": 16.984407,
   "end_time": "2025-07-16T16:07:19.278942",
   "environment_variables": {},
   "exception": null,
   "input_path": "__notebook__.ipynb",
   "output_path": "__notebook__.ipynb",
   "parameters": {},
   "start_time": "2025-07-16T16:07:02.294535",
   "version": "2.6.0"
  }
 },
 "nbformat": 4,
 "nbformat_minor": 5
}
